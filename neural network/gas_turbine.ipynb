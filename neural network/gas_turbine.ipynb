{
 "cells": [
  {
   "cell_type": "markdown",
   "id": "80911add",
   "metadata": {},
   "source": [
    "## import necessary libaries"
   ]
  },
  {
   "cell_type": "code",
   "execution_count": 20,
   "id": "9b87545e",
   "metadata": {},
   "outputs": [],
   "source": [
    "import pandas as pd\n",
    "import warnings\n",
    "warnings.filterwarnings('ignore')\n",
    "import numpy as np"
   ]
  },
  {
   "cell_type": "code",
   "execution_count": 2,
   "id": "876f9832",
   "metadata": {},
   "outputs": [
    {
     "data": {
      "text/html": [
       "<div>\n",
       "<style scoped>\n",
       "    .dataframe tbody tr th:only-of-type {\n",
       "        vertical-align: middle;\n",
       "    }\n",
       "\n",
       "    .dataframe tbody tr th {\n",
       "        vertical-align: top;\n",
       "    }\n",
       "\n",
       "    .dataframe thead th {\n",
       "        text-align: right;\n",
       "    }\n",
       "</style>\n",
       "<table border=\"1\" class=\"dataframe\">\n",
       "  <thead>\n",
       "    <tr style=\"text-align: right;\">\n",
       "      <th></th>\n",
       "      <th>AT</th>\n",
       "      <th>AP</th>\n",
       "      <th>AH</th>\n",
       "      <th>AFDP</th>\n",
       "      <th>GTEP</th>\n",
       "      <th>TIT</th>\n",
       "      <th>TAT</th>\n",
       "      <th>TEY</th>\n",
       "      <th>CDP</th>\n",
       "      <th>CO</th>\n",
       "      <th>NOX</th>\n",
       "    </tr>\n",
       "  </thead>\n",
       "  <tbody>\n",
       "    <tr>\n",
       "      <th>0</th>\n",
       "      <td>6.8594</td>\n",
       "      <td>1007.9</td>\n",
       "      <td>96.799</td>\n",
       "      <td>3.5000</td>\n",
       "      <td>19.663</td>\n",
       "      <td>1059.2</td>\n",
       "      <td>550.00</td>\n",
       "      <td>114.70</td>\n",
       "      <td>10.605</td>\n",
       "      <td>3.1547</td>\n",
       "      <td>82.722</td>\n",
       "    </tr>\n",
       "    <tr>\n",
       "      <th>1</th>\n",
       "      <td>6.7850</td>\n",
       "      <td>1008.4</td>\n",
       "      <td>97.118</td>\n",
       "      <td>3.4998</td>\n",
       "      <td>19.728</td>\n",
       "      <td>1059.3</td>\n",
       "      <td>550.00</td>\n",
       "      <td>114.72</td>\n",
       "      <td>10.598</td>\n",
       "      <td>3.2363</td>\n",
       "      <td>82.776</td>\n",
       "    </tr>\n",
       "    <tr>\n",
       "      <th>2</th>\n",
       "      <td>6.8977</td>\n",
       "      <td>1008.8</td>\n",
       "      <td>95.939</td>\n",
       "      <td>3.4824</td>\n",
       "      <td>19.779</td>\n",
       "      <td>1059.4</td>\n",
       "      <td>549.87</td>\n",
       "      <td>114.71</td>\n",
       "      <td>10.601</td>\n",
       "      <td>3.2012</td>\n",
       "      <td>82.468</td>\n",
       "    </tr>\n",
       "    <tr>\n",
       "      <th>3</th>\n",
       "      <td>7.0569</td>\n",
       "      <td>1009.2</td>\n",
       "      <td>95.249</td>\n",
       "      <td>3.4805</td>\n",
       "      <td>19.792</td>\n",
       "      <td>1059.6</td>\n",
       "      <td>549.99</td>\n",
       "      <td>114.72</td>\n",
       "      <td>10.606</td>\n",
       "      <td>3.1923</td>\n",
       "      <td>82.670</td>\n",
       "    </tr>\n",
       "    <tr>\n",
       "      <th>4</th>\n",
       "      <td>7.3978</td>\n",
       "      <td>1009.7</td>\n",
       "      <td>95.150</td>\n",
       "      <td>3.4976</td>\n",
       "      <td>19.765</td>\n",
       "      <td>1059.7</td>\n",
       "      <td>549.98</td>\n",
       "      <td>114.72</td>\n",
       "      <td>10.612</td>\n",
       "      <td>3.2484</td>\n",
       "      <td>82.311</td>\n",
       "    </tr>\n",
       "    <tr>\n",
       "      <th>...</th>\n",
       "      <td>...</td>\n",
       "      <td>...</td>\n",
       "      <td>...</td>\n",
       "      <td>...</td>\n",
       "      <td>...</td>\n",
       "      <td>...</td>\n",
       "      <td>...</td>\n",
       "      <td>...</td>\n",
       "      <td>...</td>\n",
       "      <td>...</td>\n",
       "      <td>...</td>\n",
       "    </tr>\n",
       "    <tr>\n",
       "      <th>15034</th>\n",
       "      <td>9.0301</td>\n",
       "      <td>1005.6</td>\n",
       "      <td>98.460</td>\n",
       "      <td>3.5421</td>\n",
       "      <td>19.164</td>\n",
       "      <td>1049.7</td>\n",
       "      <td>546.21</td>\n",
       "      <td>111.61</td>\n",
       "      <td>10.400</td>\n",
       "      <td>4.5186</td>\n",
       "      <td>79.559</td>\n",
       "    </tr>\n",
       "    <tr>\n",
       "      <th>15035</th>\n",
       "      <td>7.8879</td>\n",
       "      <td>1005.9</td>\n",
       "      <td>99.093</td>\n",
       "      <td>3.5059</td>\n",
       "      <td>19.414</td>\n",
       "      <td>1046.3</td>\n",
       "      <td>543.22</td>\n",
       "      <td>111.78</td>\n",
       "      <td>10.433</td>\n",
       "      <td>4.8470</td>\n",
       "      <td>79.917</td>\n",
       "    </tr>\n",
       "    <tr>\n",
       "      <th>15036</th>\n",
       "      <td>7.2647</td>\n",
       "      <td>1006.3</td>\n",
       "      <td>99.496</td>\n",
       "      <td>3.4770</td>\n",
       "      <td>19.530</td>\n",
       "      <td>1037.7</td>\n",
       "      <td>537.32</td>\n",
       "      <td>110.19</td>\n",
       "      <td>10.483</td>\n",
       "      <td>7.9632</td>\n",
       "      <td>90.912</td>\n",
       "    </tr>\n",
       "    <tr>\n",
       "      <th>15037</th>\n",
       "      <td>7.0060</td>\n",
       "      <td>1006.8</td>\n",
       "      <td>99.008</td>\n",
       "      <td>3.4486</td>\n",
       "      <td>19.377</td>\n",
       "      <td>1043.2</td>\n",
       "      <td>541.24</td>\n",
       "      <td>110.74</td>\n",
       "      <td>10.533</td>\n",
       "      <td>6.2494</td>\n",
       "      <td>93.227</td>\n",
       "    </tr>\n",
       "    <tr>\n",
       "      <th>15038</th>\n",
       "      <td>6.9279</td>\n",
       "      <td>1007.2</td>\n",
       "      <td>97.533</td>\n",
       "      <td>3.4275</td>\n",
       "      <td>19.306</td>\n",
       "      <td>1049.9</td>\n",
       "      <td>545.85</td>\n",
       "      <td>111.58</td>\n",
       "      <td>10.583</td>\n",
       "      <td>4.9816</td>\n",
       "      <td>92.498</td>\n",
       "    </tr>\n",
       "  </tbody>\n",
       "</table>\n",
       "<p>15039 rows × 11 columns</p>\n",
       "</div>"
      ],
      "text/plain": [
       "           AT      AP      AH    AFDP    GTEP     TIT     TAT     TEY     CDP  \\\n",
       "0      6.8594  1007.9  96.799  3.5000  19.663  1059.2  550.00  114.70  10.605   \n",
       "1      6.7850  1008.4  97.118  3.4998  19.728  1059.3  550.00  114.72  10.598   \n",
       "2      6.8977  1008.8  95.939  3.4824  19.779  1059.4  549.87  114.71  10.601   \n",
       "3      7.0569  1009.2  95.249  3.4805  19.792  1059.6  549.99  114.72  10.606   \n",
       "4      7.3978  1009.7  95.150  3.4976  19.765  1059.7  549.98  114.72  10.612   \n",
       "...       ...     ...     ...     ...     ...     ...     ...     ...     ...   \n",
       "15034  9.0301  1005.6  98.460  3.5421  19.164  1049.7  546.21  111.61  10.400   \n",
       "15035  7.8879  1005.9  99.093  3.5059  19.414  1046.3  543.22  111.78  10.433   \n",
       "15036  7.2647  1006.3  99.496  3.4770  19.530  1037.7  537.32  110.19  10.483   \n",
       "15037  7.0060  1006.8  99.008  3.4486  19.377  1043.2  541.24  110.74  10.533   \n",
       "15038  6.9279  1007.2  97.533  3.4275  19.306  1049.9  545.85  111.58  10.583   \n",
       "\n",
       "           CO     NOX  \n",
       "0      3.1547  82.722  \n",
       "1      3.2363  82.776  \n",
       "2      3.2012  82.468  \n",
       "3      3.1923  82.670  \n",
       "4      3.2484  82.311  \n",
       "...       ...     ...  \n",
       "15034  4.5186  79.559  \n",
       "15035  4.8470  79.917  \n",
       "15036  7.9632  90.912  \n",
       "15037  6.2494  93.227  \n",
       "15038  4.9816  92.498  \n",
       "\n",
       "[15039 rows x 11 columns]"
      ]
     },
     "execution_count": 2,
     "metadata": {},
     "output_type": "execute_result"
    }
   ],
   "source": [
    "gas_turbine = pd.read_csv('gas_turbines.csv')\n",
    "gas_turbine"
   ]
  },
  {
   "cell_type": "markdown",
   "id": "feeb1f5f",
   "metadata": {},
   "source": [
    "## Data understanding"
   ]
  },
  {
   "cell_type": "code",
   "execution_count": 3,
   "id": "2b1e3a76",
   "metadata": {},
   "outputs": [
    {
     "data": {
      "text/plain": [
       "(15039, 11)"
      ]
     },
     "execution_count": 3,
     "metadata": {},
     "output_type": "execute_result"
    }
   ],
   "source": [
    "gas_turbine.shape"
   ]
  },
  {
   "cell_type": "code",
   "execution_count": 4,
   "id": "5ee47328",
   "metadata": {},
   "outputs": [
    {
     "data": {
      "text/plain": [
       "AT      0\n",
       "AP      0\n",
       "AH      0\n",
       "AFDP    0\n",
       "GTEP    0\n",
       "TIT     0\n",
       "TAT     0\n",
       "TEY     0\n",
       "CDP     0\n",
       "CO      0\n",
       "NOX     0\n",
       "dtype: int64"
      ]
     },
     "execution_count": 4,
     "metadata": {},
     "output_type": "execute_result"
    }
   ],
   "source": [
    "gas_turbine.isna().sum()"
   ]
  },
  {
   "cell_type": "code",
   "execution_count": 5,
   "id": "0cf30d55",
   "metadata": {},
   "outputs": [
    {
     "data": {
      "text/plain": [
       "AT      float64\n",
       "AP      float64\n",
       "AH      float64\n",
       "AFDP    float64\n",
       "GTEP    float64\n",
       "TIT     float64\n",
       "TAT     float64\n",
       "TEY     float64\n",
       "CDP     float64\n",
       "CO      float64\n",
       "NOX     float64\n",
       "dtype: object"
      ]
     },
     "execution_count": 5,
     "metadata": {},
     "output_type": "execute_result"
    }
   ],
   "source": [
    "gas_turbine.dtypes"
   ]
  },
  {
   "cell_type": "code",
   "execution_count": 6,
   "id": "384ac1ae",
   "metadata": {},
   "outputs": [],
   "source": [
    "X = gas_turbine.drop('TEY',axis=1)\n",
    "y = gas_turbine[['TEY']]"
   ]
  },
  {
   "cell_type": "code",
   "execution_count": 7,
   "id": "87546693",
   "metadata": {},
   "outputs": [
    {
     "data": {
      "text/plain": [
       "AT       7.574323\n",
       "AP       6.410760\n",
       "AH      13.793439\n",
       "AFDP     0.760197\n",
       "GTEP     4.173916\n",
       "TIT     16.527806\n",
       "TAT      7.866803\n",
       "CDP      1.103196\n",
       "CO       2.222206\n",
       "NOX     10.470586\n",
       "dtype: float64"
      ]
     },
     "execution_count": 7,
     "metadata": {},
     "output_type": "execute_result"
    }
   ],
   "source": [
    "X.std()"
   ]
  },
  {
   "cell_type": "markdown",
   "id": "61d82cf3",
   "metadata": {},
   "source": [
    "## Standard scalar"
   ]
  },
  {
   "cell_type": "code",
   "execution_count": 8,
   "id": "297b4d9f",
   "metadata": {},
   "outputs": [],
   "source": [
    "from sklearn.preprocessing import StandardScaler"
   ]
  },
  {
   "cell_type": "code",
   "execution_count": 9,
   "id": "997fa303",
   "metadata": {},
   "outputs": [
    {
     "data": {
      "text/html": [
       "<div>\n",
       "<style scoped>\n",
       "    .dataframe tbody tr th:only-of-type {\n",
       "        vertical-align: middle;\n",
       "    }\n",
       "\n",
       "    .dataframe tbody tr th {\n",
       "        vertical-align: top;\n",
       "    }\n",
       "\n",
       "    .dataframe thead th {\n",
       "        text-align: right;\n",
       "    }\n",
       "</style>\n",
       "<table border=\"1\" class=\"dataframe\">\n",
       "  <thead>\n",
       "    <tr style=\"text-align: right;\">\n",
       "      <th></th>\n",
       "      <th>AT</th>\n",
       "      <th>AP</th>\n",
       "      <th>AH</th>\n",
       "      <th>AFDP</th>\n",
       "      <th>GTEP</th>\n",
       "      <th>TIT</th>\n",
       "      <th>TAT</th>\n",
       "      <th>CDP</th>\n",
       "      <th>CO</th>\n",
       "      <th>NOX</th>\n",
       "    </tr>\n",
       "  </thead>\n",
       "  <tbody>\n",
       "    <tr>\n",
       "      <th>0</th>\n",
       "      <td>-1.439778</td>\n",
       "      <td>-0.826644</td>\n",
       "      <td>1.281436</td>\n",
       "      <td>-0.921232</td>\n",
       "      <td>-1.379101</td>\n",
       "      <td>-1.488376</td>\n",
       "      <td>0.585240</td>\n",
       "      <td>-1.357331</td>\n",
       "      <td>0.532012</td>\n",
       "      <td>1.387845</td>\n",
       "    </tr>\n",
       "    <tr>\n",
       "      <th>1</th>\n",
       "      <td>-1.449601</td>\n",
       "      <td>-0.748647</td>\n",
       "      <td>1.304564</td>\n",
       "      <td>-0.921495</td>\n",
       "      <td>-1.363528</td>\n",
       "      <td>-1.482325</td>\n",
       "      <td>0.585240</td>\n",
       "      <td>-1.363676</td>\n",
       "      <td>0.568733</td>\n",
       "      <td>1.393002</td>\n",
       "    </tr>\n",
       "    <tr>\n",
       "      <th>2</th>\n",
       "      <td>-1.434721</td>\n",
       "      <td>-0.686250</td>\n",
       "      <td>1.219086</td>\n",
       "      <td>-0.944385</td>\n",
       "      <td>-1.351309</td>\n",
       "      <td>-1.476275</td>\n",
       "      <td>0.568715</td>\n",
       "      <td>-1.360957</td>\n",
       "      <td>0.552938</td>\n",
       "      <td>1.363586</td>\n",
       "    </tr>\n",
       "    <tr>\n",
       "      <th>3</th>\n",
       "      <td>-1.413702</td>\n",
       "      <td>-0.623853</td>\n",
       "      <td>1.169060</td>\n",
       "      <td>-0.946884</td>\n",
       "      <td>-1.348194</td>\n",
       "      <td>-1.464173</td>\n",
       "      <td>0.583969</td>\n",
       "      <td>-1.356424</td>\n",
       "      <td>0.548933</td>\n",
       "      <td>1.382878</td>\n",
       "    </tr>\n",
       "    <tr>\n",
       "      <th>4</th>\n",
       "      <td>-1.368693</td>\n",
       "      <td>-0.545857</td>\n",
       "      <td>1.161883</td>\n",
       "      <td>-0.924389</td>\n",
       "      <td>-1.354663</td>\n",
       "      <td>-1.458123</td>\n",
       "      <td>0.582698</td>\n",
       "      <td>-1.350985</td>\n",
       "      <td>0.574179</td>\n",
       "      <td>1.348591</td>\n",
       "    </tr>\n",
       "    <tr>\n",
       "      <th>...</th>\n",
       "      <td>...</td>\n",
       "      <td>...</td>\n",
       "      <td>...</td>\n",
       "      <td>...</td>\n",
       "      <td>...</td>\n",
       "      <td>...</td>\n",
       "      <td>...</td>\n",
       "      <td>...</td>\n",
       "      <td>...</td>\n",
       "      <td>...</td>\n",
       "    </tr>\n",
       "    <tr>\n",
       "      <th>15034</th>\n",
       "      <td>-1.153182</td>\n",
       "      <td>-1.185428</td>\n",
       "      <td>1.401860</td>\n",
       "      <td>-0.865850</td>\n",
       "      <td>-1.498657</td>\n",
       "      <td>-2.063184</td>\n",
       "      <td>0.103453</td>\n",
       "      <td>-1.543161</td>\n",
       "      <td>1.145792</td>\n",
       "      <td>1.085751</td>\n",
       "    </tr>\n",
       "    <tr>\n",
       "      <th>15035</th>\n",
       "      <td>-1.303986</td>\n",
       "      <td>-1.138630</td>\n",
       "      <td>1.447753</td>\n",
       "      <td>-0.913470</td>\n",
       "      <td>-1.438759</td>\n",
       "      <td>-2.268905</td>\n",
       "      <td>-0.276638</td>\n",
       "      <td>-1.513247</td>\n",
       "      <td>1.293578</td>\n",
       "      <td>1.119943</td>\n",
       "    </tr>\n",
       "    <tr>\n",
       "      <th>15036</th>\n",
       "      <td>-1.386267</td>\n",
       "      <td>-1.076233</td>\n",
       "      <td>1.476971</td>\n",
       "      <td>-0.951488</td>\n",
       "      <td>-1.410967</td>\n",
       "      <td>-2.789257</td>\n",
       "      <td>-1.026650</td>\n",
       "      <td>-1.467922</td>\n",
       "      <td>2.695925</td>\n",
       "      <td>2.170062</td>\n",
       "    </tr>\n",
       "    <tr>\n",
       "      <th>15037</th>\n",
       "      <td>-1.420423</td>\n",
       "      <td>-0.998236</td>\n",
       "      <td>1.441590</td>\n",
       "      <td>-0.988848</td>\n",
       "      <td>-1.447624</td>\n",
       "      <td>-2.456474</td>\n",
       "      <td>-0.528337</td>\n",
       "      <td>-1.422598</td>\n",
       "      <td>1.924683</td>\n",
       "      <td>2.391165</td>\n",
       "    </tr>\n",
       "    <tr>\n",
       "      <th>15038</th>\n",
       "      <td>-1.430734</td>\n",
       "      <td>-0.935839</td>\n",
       "      <td>1.334652</td>\n",
       "      <td>-1.016605</td>\n",
       "      <td>-1.464635</td>\n",
       "      <td>-2.051083</td>\n",
       "      <td>0.057689</td>\n",
       "      <td>-1.377273</td>\n",
       "      <td>1.354150</td>\n",
       "      <td>2.321539</td>\n",
       "    </tr>\n",
       "  </tbody>\n",
       "</table>\n",
       "<p>15039 rows × 10 columns</p>\n",
       "</div>"
      ],
      "text/plain": [
       "             AT        AP        AH      AFDP      GTEP       TIT       TAT  \\\n",
       "0     -1.439778 -0.826644  1.281436 -0.921232 -1.379101 -1.488376  0.585240   \n",
       "1     -1.449601 -0.748647  1.304564 -0.921495 -1.363528 -1.482325  0.585240   \n",
       "2     -1.434721 -0.686250  1.219086 -0.944385 -1.351309 -1.476275  0.568715   \n",
       "3     -1.413702 -0.623853  1.169060 -0.946884 -1.348194 -1.464173  0.583969   \n",
       "4     -1.368693 -0.545857  1.161883 -0.924389 -1.354663 -1.458123  0.582698   \n",
       "...         ...       ...       ...       ...       ...       ...       ...   \n",
       "15034 -1.153182 -1.185428  1.401860 -0.865850 -1.498657 -2.063184  0.103453   \n",
       "15035 -1.303986 -1.138630  1.447753 -0.913470 -1.438759 -2.268905 -0.276638   \n",
       "15036 -1.386267 -1.076233  1.476971 -0.951488 -1.410967 -2.789257 -1.026650   \n",
       "15037 -1.420423 -0.998236  1.441590 -0.988848 -1.447624 -2.456474 -0.528337   \n",
       "15038 -1.430734 -0.935839  1.334652 -1.016605 -1.464635 -2.051083  0.057689   \n",
       "\n",
       "            CDP        CO       NOX  \n",
       "0     -1.357331  0.532012  1.387845  \n",
       "1     -1.363676  0.568733  1.393002  \n",
       "2     -1.360957  0.552938  1.363586  \n",
       "3     -1.356424  0.548933  1.382878  \n",
       "4     -1.350985  0.574179  1.348591  \n",
       "...         ...       ...       ...  \n",
       "15034 -1.543161  1.145792  1.085751  \n",
       "15035 -1.513247  1.293578  1.119943  \n",
       "15036 -1.467922  2.695925  2.170062  \n",
       "15037 -1.422598  1.924683  2.391165  \n",
       "15038 -1.377273  1.354150  2.321539  \n",
       "\n",
       "[15039 rows x 10 columns]"
      ]
     },
     "execution_count": 9,
     "metadata": {},
     "output_type": "execute_result"
    }
   ],
   "source": [
    "std_scale = StandardScaler()\n",
    "scaled_X  = std_scale.fit_transform(X)\n",
    "scaled_X  = pd.DataFrame(scaled_X,columns=X.columns)\n",
    "scaled_X"
   ]
  },
  {
   "cell_type": "markdown",
   "id": "8bde1308",
   "metadata": {},
   "source": [
    "## Data splitting"
   ]
  },
  {
   "cell_type": "code",
   "execution_count": 10,
   "id": "da53eed2",
   "metadata": {},
   "outputs": [],
   "source": [
    "from sklearn.model_selection import train_test_split"
   ]
  },
  {
   "cell_type": "code",
   "execution_count": 11,
   "id": "59b11118",
   "metadata": {},
   "outputs": [],
   "source": [
    "X_train,X_test,y_train,y_test = train_test_split(scaled_X,y,test_size=0.20,random_state=12)"
   ]
  },
  {
   "cell_type": "code",
   "execution_count": 12,
   "id": "7ad8297a",
   "metadata": {},
   "outputs": [
    {
     "data": {
      "text/plain": [
       "((12031, 10), (3008, 10), (12031, 1), (3008, 1))"
      ]
     },
     "execution_count": 12,
     "metadata": {},
     "output_type": "execute_result"
    }
   ],
   "source": [
    "X_train.shape,X_test.shape,y_train.shape,y_test.shape"
   ]
  },
  {
   "cell_type": "markdown",
   "id": "b7c7f5e6",
   "metadata": {},
   "source": [
    "## Model building"
   ]
  },
  {
   "cell_type": "markdown",
   "id": "573b2c74",
   "metadata": {},
   "source": [
    "### build architecture"
   ]
  },
  {
   "cell_type": "code",
   "execution_count": 13,
   "id": "f655ea92",
   "metadata": {},
   "outputs": [],
   "source": [
    "from tensorflow.keras import Sequential\n",
    "from tensorflow.keras.layers import Dense,Dropout"
   ]
  },
  {
   "cell_type": "code",
   "execution_count": 14,
   "id": "8ac90342",
   "metadata": {},
   "outputs": [
    {
     "name": "stdout",
     "output_type": "stream",
     "text": [
      "Model: \"sequential\"\n",
      "_________________________________________________________________\n",
      " Layer (type)                Output Shape              Param #   \n",
      "=================================================================\n",
      " dense (Dense)               (None, 50)                550       \n",
      "                                                                 \n",
      " dense_1 (Dense)             (None, 30)                1530      \n",
      "                                                                 \n",
      " dense_2 (Dense)             (None, 40)                1240      \n",
      "                                                                 \n",
      " dense_3 (Dense)             (None, 1)                 41        \n",
      "                                                                 \n",
      "=================================================================\n",
      "Total params: 3,361\n",
      "Trainable params: 3,361\n",
      "Non-trainable params: 0\n",
      "_________________________________________________________________\n"
     ]
    }
   ],
   "source": [
    "model = Sequential()\n",
    "model.add(Dense(units = 50,activation='relu',input_dim=10)) #I/P\n",
    "model.add(Dense(units = 30,activation='relu')) #H1\n",
    "model.add(Dense(units = 40,activation='relu')) #H2\n",
    "model.add(Dense(units = 1)) #O/P\n",
    "model.summary()"
   ]
  },
  {
   "cell_type": "markdown",
   "id": "326466ca",
   "metadata": {},
   "source": [
    "## Model compile"
   ]
  },
  {
   "cell_type": "code",
   "execution_count": 15,
   "id": "3f75a929",
   "metadata": {},
   "outputs": [],
   "source": [
    "model.compile(optimizer='Adam',loss ='mean_absolute_error' ,metrics = ['mse'])"
   ]
  },
  {
   "cell_type": "markdown",
   "id": "3f26d202",
   "metadata": {},
   "source": [
    "## Train model"
   ]
  },
  {
   "cell_type": "code",
   "execution_count": 16,
   "id": "79c14704",
   "metadata": {},
   "outputs": [
    {
     "name": "stdout",
     "output_type": "stream",
     "text": [
      "Epoch 1/60\n",
      "376/376 [==============================] - 1s 2ms/step - loss: 47.5918 - mse: 4865.3809\n",
      "Epoch 2/60\n",
      "376/376 [==============================] - 1s 1ms/step - loss: 6.6713 - mse: 100.9717\n",
      "Epoch 3/60\n",
      "376/376 [==============================] - 0s 1ms/step - loss: 4.0387 - mse: 47.0400\n",
      "Epoch 4/60\n",
      "376/376 [==============================] - 0s 1ms/step - loss: 2.8139 - mse: 22.7330\n",
      "Epoch 5/60\n",
      "376/376 [==============================] - 1s 1ms/step - loss: 2.0251 - mse: 12.2946\n",
      "Epoch 6/60\n",
      "376/376 [==============================] - 0s 1ms/step - loss: 1.5434 - mse: 7.0269\n",
      "Epoch 7/60\n",
      "376/376 [==============================] - 0s 1ms/step - loss: 1.2712 - mse: 4.7339\n",
      "Epoch 8/60\n",
      "376/376 [==============================] - 0s 1ms/step - loss: 1.1009 - mse: 3.4299\n",
      "Epoch 9/60\n",
      "376/376 [==============================] - 1s 2ms/step - loss: 0.9364 - mse: 2.5152\n",
      "Epoch 10/60\n",
      "376/376 [==============================] - 1s 1ms/step - loss: 0.8724 - mse: 2.1175\n",
      "Epoch 11/60\n",
      "376/376 [==============================] - 1s 1ms/step - loss: 0.7817 - mse: 1.8425\n",
      "Epoch 12/60\n",
      "376/376 [==============================] - 0s 1ms/step - loss: 0.7244 - mse: 1.6623\n",
      "Epoch 13/60\n",
      "376/376 [==============================] - 1s 1ms/step - loss: 0.7085 - mse: 1.5827\n",
      "Epoch 14/60\n",
      "376/376 [==============================] - 1s 1ms/step - loss: 0.7183 - mse: 1.5710\n",
      "Epoch 15/60\n",
      "376/376 [==============================] - 1s 2ms/step - loss: 0.6877 - mse: 1.4266\n",
      "Epoch 16/60\n",
      "376/376 [==============================] - 1s 1ms/step - loss: 0.6539 - mse: 1.3412\n",
      "Epoch 17/60\n",
      "376/376 [==============================] - 1s 1ms/step - loss: 0.6122 - mse: 1.1996\n",
      "Epoch 18/60\n",
      "376/376 [==============================] - 1s 1ms/step - loss: 0.6042 - mse: 1.1236\n",
      "Epoch 19/60\n",
      "376/376 [==============================] - 0s 1ms/step - loss: 0.6124 - mse: 1.0765\n",
      "Epoch 20/60\n",
      "376/376 [==============================] - 1s 1ms/step - loss: 0.5995 - mse: 1.0272\n",
      "Epoch 21/60\n",
      "376/376 [==============================] - 1s 2ms/step - loss: 0.6152 - mse: 1.0728\n",
      "Epoch 22/60\n",
      "376/376 [==============================] - 1s 1ms/step - loss: 0.5860 - mse: 0.9469\n",
      "Epoch 23/60\n",
      "376/376 [==============================] - 0s 1ms/step - loss: 0.5741 - mse: 0.8678\n",
      "Epoch 24/60\n",
      "376/376 [==============================] - 1s 1ms/step - loss: 0.5977 - mse: 0.9067\n",
      "Epoch 25/60\n",
      "376/376 [==============================] - 1s 1ms/step - loss: 0.5676 - mse: 0.8381\n",
      "Epoch 26/60\n",
      "376/376 [==============================] - 1s 1ms/step - loss: 0.5593 - mse: 0.7880\n",
      "Epoch 27/60\n",
      "376/376 [==============================] - 1s 2ms/step - loss: 0.5574 - mse: 0.7857\n",
      "Epoch 28/60\n",
      "376/376 [==============================] - 1s 1ms/step - loss: 0.5450 - mse: 0.7453\n",
      "Epoch 29/60\n",
      "376/376 [==============================] - 1s 1ms/step - loss: 0.5579 - mse: 0.7430\n",
      "Epoch 30/60\n",
      "376/376 [==============================] - 1s 1ms/step - loss: 0.5663 - mse: 0.7402\n",
      "Epoch 31/60\n",
      "376/376 [==============================] - 1s 1ms/step - loss: 0.5271 - mse: 0.6568\n",
      "Epoch 32/60\n",
      "376/376 [==============================] - 1s 1ms/step - loss: 0.5564 - mse: 0.6991\n",
      "Epoch 33/60\n",
      "376/376 [==============================] - 1s 2ms/step - loss: 0.5636 - mse: 0.7063\n",
      "Epoch 34/60\n",
      "376/376 [==============================] - 1s 1ms/step - loss: 0.5107 - mse: 0.6021\n",
      "Epoch 35/60\n",
      "376/376 [==============================] - 1s 1ms/step - loss: 0.5299 - mse: 0.6192\n",
      "Epoch 36/60\n",
      "376/376 [==============================] - 1s 1ms/step - loss: 0.5254 - mse: 0.6065\n",
      "Epoch 37/60\n",
      "376/376 [==============================] - 1s 2ms/step - loss: 0.5731 - mse: 0.6793\n",
      "Epoch 38/60\n",
      "376/376 [==============================] - 1s 1ms/step - loss: 0.5149 - mse: 0.5769\n",
      "Epoch 39/60\n",
      "376/376 [==============================] - 1s 1ms/step - loss: 0.5475 - mse: 0.6367\n",
      "Epoch 40/60\n",
      "376/376 [==============================] - 1s 1ms/step - loss: 0.5569 - mse: 0.6411\n",
      "Epoch 41/60\n",
      "376/376 [==============================] - 1s 1ms/step - loss: 0.5042 - mse: 0.5511\n",
      "Epoch 42/60\n",
      "376/376 [==============================] - 1s 1ms/step - loss: 0.5219 - mse: 0.5657\n",
      "Epoch 43/60\n",
      "376/376 [==============================] - 1s 1ms/step - loss: 0.5475 - mse: 0.6012\n",
      "Epoch 44/60\n",
      "376/376 [==============================] - 1s 1ms/step - loss: 0.5181 - mse: 0.5535\n",
      "Epoch 45/60\n",
      "376/376 [==============================] - 1s 1ms/step - loss: 0.5210 - mse: 0.5481\n",
      "Epoch 46/60\n",
      "376/376 [==============================] - 1s 2ms/step - loss: 0.5319 - mse: 0.5702\n",
      "Epoch 47/60\n",
      "376/376 [==============================] - 1s 2ms/step - loss: 0.4980 - mse: 0.5098\n",
      "Epoch 48/60\n",
      "376/376 [==============================] - 1s 1ms/step - loss: 0.5221 - mse: 0.5542\n",
      "Epoch 49/60\n",
      "376/376 [==============================] - 1s 2ms/step - loss: 0.5098 - mse: 0.5143\n",
      "Epoch 50/60\n",
      "376/376 [==============================] - 1s 1ms/step - loss: 0.5404 - mse: 0.5666\n",
      "Epoch 51/60\n",
      "376/376 [==============================] - 1s 1ms/step - loss: 0.5283 - mse: 0.5416\n",
      "Epoch 52/60\n",
      "376/376 [==============================] - 1s 1ms/step - loss: 0.5472 - mse: 0.5664\n",
      "Epoch 53/60\n",
      "376/376 [==============================] - 1s 1ms/step - loss: 0.5284 - mse: 0.5429\n",
      "Epoch 54/60\n",
      "376/376 [==============================] - 1s 1ms/step - loss: 0.5166 - mse: 0.5155\n",
      "Epoch 55/60\n",
      "376/376 [==============================] - 1s 1ms/step - loss: 0.5061 - mse: 0.4981\n",
      "Epoch 56/60\n",
      "376/376 [==============================] - 1s 2ms/step - loss: 0.5010 - mse: 0.4888\n",
      "Epoch 57/60\n",
      "376/376 [==============================] - 1s 2ms/step - loss: 0.5076 - mse: 0.5005\n",
      "Epoch 58/60\n",
      "376/376 [==============================] - 1s 2ms/step - loss: 0.5149 - mse: 0.5159\n",
      "Epoch 59/60\n",
      "376/376 [==============================] - 1s 1ms/step - loss: 0.5229 - mse: 0.5159\n",
      "Epoch 60/60\n",
      "376/376 [==============================] - 1s 1ms/step - loss: 0.5162 - mse: 0.5063\n"
     ]
    },
    {
     "data": {
      "text/plain": [
       "<keras.callbacks.History at 0x7f7e746836d0>"
      ]
     },
     "execution_count": 16,
     "metadata": {},
     "output_type": "execute_result"
    }
   ],
   "source": [
    "model.fit(X_train,y_train,epochs=60)"
   ]
  },
  {
   "cell_type": "markdown",
   "id": "7c7bfac2",
   "metadata": {},
   "source": [
    "## Model testing"
   ]
  },
  {
   "cell_type": "code",
   "execution_count": 17,
   "id": "3c4eb19e",
   "metadata": {},
   "outputs": [],
   "source": [
    "prediction = model.predict(X_test)"
   ]
  },
  {
   "cell_type": "code",
   "execution_count": 18,
   "id": "3ec0ec1f",
   "metadata": {},
   "outputs": [
    {
     "name": "stdout",
     "output_type": "stream",
     "text": [
      "94/94 [==============================] - 0s 993us/step - loss: 0.4185 - mse: 0.3771\n"
     ]
    },
    {
     "data": {
      "text/plain": [
       "[0.4184952974319458, 0.3771299421787262]"
      ]
     },
     "execution_count": 18,
     "metadata": {},
     "output_type": "execute_result"
    }
   ],
   "source": [
    "model.evaluate(X_test,y_test)"
   ]
  },
  {
   "cell_type": "code",
   "execution_count": 21,
   "id": "43927a05",
   "metadata": {},
   "outputs": [],
   "source": [
    "prediction = np.round(prediction)"
   ]
  },
  {
   "cell_type": "code",
   "execution_count": 22,
   "id": "52ad39bd",
   "metadata": {},
   "outputs": [],
   "source": [
    "df = y_test.copy()\n",
    "df['y_pred'] = prediction"
   ]
  },
  {
   "cell_type": "code",
   "execution_count": 23,
   "id": "258730cd",
   "metadata": {},
   "outputs": [
    {
     "data": {
      "text/html": [
       "<div>\n",
       "<style scoped>\n",
       "    .dataframe tbody tr th:only-of-type {\n",
       "        vertical-align: middle;\n",
       "    }\n",
       "\n",
       "    .dataframe tbody tr th {\n",
       "        vertical-align: top;\n",
       "    }\n",
       "\n",
       "    .dataframe thead th {\n",
       "        text-align: right;\n",
       "    }\n",
       "</style>\n",
       "<table border=\"1\" class=\"dataframe\">\n",
       "  <thead>\n",
       "    <tr style=\"text-align: right;\">\n",
       "      <th></th>\n",
       "      <th>TEY</th>\n",
       "      <th>y_pred</th>\n",
       "    </tr>\n",
       "  </thead>\n",
       "  <tbody>\n",
       "    <tr>\n",
       "      <th>4841</th>\n",
       "      <td>112.06</td>\n",
       "      <td>111.0</td>\n",
       "    </tr>\n",
       "    <tr>\n",
       "      <th>6730</th>\n",
       "      <td>127.18</td>\n",
       "      <td>127.0</td>\n",
       "    </tr>\n",
       "    <tr>\n",
       "      <th>7694</th>\n",
       "      <td>132.70</td>\n",
       "      <td>132.0</td>\n",
       "    </tr>\n",
       "    <tr>\n",
       "      <th>9566</th>\n",
       "      <td>159.95</td>\n",
       "      <td>160.0</td>\n",
       "    </tr>\n",
       "    <tr>\n",
       "      <th>6017</th>\n",
       "      <td>132.85</td>\n",
       "      <td>133.0</td>\n",
       "    </tr>\n",
       "    <tr>\n",
       "      <th>...</th>\n",
       "      <td>...</td>\n",
       "      <td>...</td>\n",
       "    </tr>\n",
       "    <tr>\n",
       "      <th>8393</th>\n",
       "      <td>134.47</td>\n",
       "      <td>133.0</td>\n",
       "    </tr>\n",
       "    <tr>\n",
       "      <th>5024</th>\n",
       "      <td>134.17</td>\n",
       "      <td>134.0</td>\n",
       "    </tr>\n",
       "    <tr>\n",
       "      <th>4138</th>\n",
       "      <td>134.46</td>\n",
       "      <td>135.0</td>\n",
       "    </tr>\n",
       "    <tr>\n",
       "      <th>3300</th>\n",
       "      <td>132.83</td>\n",
       "      <td>133.0</td>\n",
       "    </tr>\n",
       "    <tr>\n",
       "      <th>12035</th>\n",
       "      <td>144.57</td>\n",
       "      <td>144.0</td>\n",
       "    </tr>\n",
       "  </tbody>\n",
       "</table>\n",
       "<p>3008 rows × 2 columns</p>\n",
       "</div>"
      ],
      "text/plain": [
       "          TEY  y_pred\n",
       "4841   112.06   111.0\n",
       "6730   127.18   127.0\n",
       "7694   132.70   132.0\n",
       "9566   159.95   160.0\n",
       "6017   132.85   133.0\n",
       "...       ...     ...\n",
       "8393   134.47   133.0\n",
       "5024   134.17   134.0\n",
       "4138   134.46   135.0\n",
       "3300   132.83   133.0\n",
       "12035  144.57   144.0\n",
       "\n",
       "[3008 rows x 2 columns]"
      ]
     },
     "execution_count": 23,
     "metadata": {},
     "output_type": "execute_result"
    }
   ],
   "source": [
    "df"
   ]
  },
  {
   "cell_type": "markdown",
   "id": "1c65bd80",
   "metadata": {},
   "source": [
    "## ================================= End ================================="
   ]
  }
 ],
 "metadata": {
  "kernelspec": {
   "display_name": "Python 3",
   "language": "python",
   "name": "python3"
  },
  "language_info": {
   "codemirror_mode": {
    "name": "ipython",
    "version": 3
   },
   "file_extension": ".py",
   "mimetype": "text/x-python",
   "name": "python",
   "nbconvert_exporter": "python",
   "pygments_lexer": "ipython3",
   "version": "3.8.8"
  }
 },
 "nbformat": 4,
 "nbformat_minor": 5
}
